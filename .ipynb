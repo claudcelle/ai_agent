{
 "cells": [
  {
   "cell_type": "code",
   "execution_count": 1,
   "id": "e18ff4de",
   "metadata": {},
   "outputs": [
    {
     "data": {
      "text/plain": [
       "str"
      ]
     },
     "execution_count": 1,
     "metadata": {},
     "output_type": "execute_result"
    }
   ],
   "source": [
    "mario = 13\n",
    "if type(mario) is not str:\n",
    "    mario = str(mario)\n",
    "\n",
    "type(mario)\n"
   ]
  },
  {
   "cell_type": "code",
   "execution_count": 4,
   "id": "9b83d181",
   "metadata": {},
   "outputs": [
    {
     "ename": "AssertionError",
     "evalue": "is not a string",
     "output_type": "error",
     "traceback": [
      "\u001b[0;31m---------------------------------------------------------------------------\u001b[0m",
      "\u001b[0;31mAssertionError\u001b[0m                            Traceback (most recent call last)",
      "Cell \u001b[0;32mIn[4], line 2\u001b[0m\n\u001b[1;32m      1\u001b[0m mario \u001b[38;5;241m=\u001b[39m \u001b[38;5;241m13\u001b[39m\n\u001b[0;32m----> 2\u001b[0m \u001b[38;5;28;01massert\u001b[39;00m \u001b[38;5;28mtype\u001b[39m(mario) \u001b[38;5;241m==\u001b[39m \u001b[38;5;28mstr\u001b[39m, \u001b[38;5;124m\"\u001b[39m\u001b[38;5;124mis not a string\u001b[39m\u001b[38;5;124m\"\u001b[39m\n\u001b[1;32m      4\u001b[0m \u001b[38;5;28mtype\u001b[39m(mario)\n",
      "\u001b[0;31mAssertionError\u001b[0m: is not a string"
     ]
    }
   ],
   "source": [
    "mario = 13\n",
    "assert type(mario) == str, \"is not a string\"\n",
    "\n",
    "type(mario)"
   ]
  }
 ],
 "metadata": {
  "kernelspec": {
   "display_name": "ai_agent",
   "language": "python",
   "name": "python3"
  },
  "language_info": {
   "codemirror_mode": {
    "name": "ipython",
    "version": 3
   },
   "file_extension": ".py",
   "mimetype": "text/x-python",
   "name": "python",
   "nbconvert_exporter": "python",
   "pygments_lexer": "ipython3",
   "version": "3.10.12"
  }
 },
 "nbformat": 4,
 "nbformat_minor": 5
}
